{
 "cells": [
  {
   "cell_type": "markdown",
   "metadata": {
    "collapsed": true
   },
   "source": [
    "## Introduction\n",
    "\n",
    "In this notebook we will use classic statistical techniques such as linear regression to explore the fundamentals of fitting a model. We will start with problems involving regression and classification in low dimensional spaces (1D or 2D spaces that can be visualized easily) and then get a glimse of how to think about problems in higher dimensions. We will try to build intuitions that can help us model more complicated data such as human speech, pictures, and robinhood users."
   ]
  },
  {
   "cell_type": "markdown",
   "metadata": {},
   "source": [
    "## Linear regression\n",
    "\n",
    "Lets take a look at a problem where two variables are linearly related to each other. An example of such a dataset can be temperature records in Celcius and Fahrenheit. Say you dont know the exact formula for converting temperature from Celcius to Fahrenheit, how can you figure out the formula by yourself? We can use linear regression to learn this relationship from data. Lets collect this data by going to several weather websites that give us temperature in both units. The cell below shows data collected by me on July 22nd 2017 from the website https://www.wunderground.com/. "
   ]
  },
  {
   "cell_type": "code",
   "execution_count": 8,
   "metadata": {
    "collapsed": true
   },
   "outputs": [],
   "source": [
    "temperatures = [\n",
    "    {\"city\": \"San Francisco\", \"celcius\": 23.6, \"fahrenheit\": 74.2},\n",
    "    {\"city\": \"New York\", \"celcius\": 31.6, \"fahrenheit\": 88.9},\n",
    "    {\"city\": \"Chicago\", \"celcius\": 29.3, \"fahrenheit\": 84.7},\n",
    "    {\"city\": \"Houston\", \"celcius\": 34.2, \"fahrenheit\": 94.8},\n",
    "]"
   ]
  },
  {
   "cell_type": "markdown",
   "metadata": {},
   "source": [
    "Lets convert this python dictionary into a data frame that can be manipulated easily by us"
   ]
  },
  {
   "cell_type": "code",
   "execution_count": 19,
   "metadata": {},
   "outputs": [],
   "source": [
    "import pandas as pd\n",
    "data = pd.DataFrame(temperatures)"
   ]
  },
  {
   "cell_type": "code",
   "execution_count": 20,
   "metadata": {},
   "outputs": [
    {
     "data": {
      "text/html": [
       "<div>\n",
       "<table border=\"1\" class=\"dataframe\">\n",
       "  <thead>\n",
       "    <tr style=\"text-align: right;\">\n",
       "      <th></th>\n",
       "      <th>celcius</th>\n",
       "      <th>city</th>\n",
       "      <th>fahrenheit</th>\n",
       "    </tr>\n",
       "  </thead>\n",
       "  <tbody>\n",
       "    <tr>\n",
       "      <th>0</th>\n",
       "      <td>23.6</td>\n",
       "      <td>San Francisco</td>\n",
       "      <td>74.2</td>\n",
       "    </tr>\n",
       "    <tr>\n",
       "      <th>1</th>\n",
       "      <td>31.6</td>\n",
       "      <td>New York</td>\n",
       "      <td>88.9</td>\n",
       "    </tr>\n",
       "    <tr>\n",
       "      <th>2</th>\n",
       "      <td>29.3</td>\n",
       "      <td>Chicago</td>\n",
       "      <td>84.7</td>\n",
       "    </tr>\n",
       "    <tr>\n",
       "      <th>3</th>\n",
       "      <td>34.2</td>\n",
       "      <td>Houston</td>\n",
       "      <td>94.8</td>\n",
       "    </tr>\n",
       "  </tbody>\n",
       "</table>\n",
       "</div>"
      ],
      "text/plain": [
       "   celcius           city  fahrenheit\n",
       "0     23.6  San Francisco        74.2\n",
       "1     31.6       New York        88.9\n",
       "2     29.3        Chicago        84.7\n",
       "3     34.2        Houston        94.8"
      ]
     },
     "execution_count": 20,
     "metadata": {},
     "output_type": "execute_result"
    }
   ],
   "source": [
    "# The variable data stores a table as shown below\n",
    "data"
   ]
  },
  {
   "cell_type": "markdown",
   "metadata": {},
   "source": [
    "I will switch between python and R to perform different tasks. I am more familiar with R for statistical modeling and visualization, while I use python as my programming language of choice for building complex application and for writing small scripts to prepare data. Jupyter makes this switching between languages really easy"
   ]
  },
  {
   "cell_type": "code",
   "execution_count": 10,
   "metadata": {},
   "outputs": [
    {
     "name": "stdout",
     "output_type": "stream",
     "text": [
      "The rpy2.ipython extension is already loaded. To reload it, use:\n",
      "  %reload_ext rpy2.ipython\n"
     ]
    }
   ],
   "source": [
    "# This enables the magic switching between R and python\n",
    "%load_ext rpy2.ipython"
   ]
  },
  {
   "cell_type": "code",
   "execution_count": 16,
   "metadata": {},
   "outputs": [
    {
     "data": {
      "image/png": "[encoded data removed]"
     },
     "metadata": {},
     "output_type": "display_data"
    }
   ],
   "source": [
    "%%R -w 400 -h 300 -i data\n",
    "library(\"ggplot2\")\n",
    "\n",
    "p = ggplot(data)\n",
    "p = p + geom_point(aes(x=fahrenheit, y=celcius))\n",
    "p = p + theme_bw(base_size=18) + xlab(TeX(\"F\")) + ylab(TeX(\"C\"))\n",
    "print(p)"
   ]
  },
  {
   "cell_type": "markdown",
   "metadata": {},
   "source": [
    "The figure above clearly shows that the relationship between C and F is linear. A linear relationship can be represented by an equation of the form $\\hat{C}_i = \\alpha + \\beta \\cdot F_i$. The term $\\hat{C}_i$ represents the predicted value of $C_i$, this is generally pronounced `c hat`. The subscript $i$ represents the $i^\\text{th}$ sample in the training set. The terms $\\alpha$ and $\\beta$ are tunable parameters that are learned from the data.\n",
    "\n",
    "Different values of $\\alpha$ and $\\beta$ leads to different prediction of C from a given F. We chose the value of $\\alpha$ and $\\beta$ that minimizes the sum of prediction error ($(C_i - \\hat{C}_i)^2$) over each sample in our dataset. This process of finding $\\alpha$, and $\\beta$ that minimizes the prediction error is called learning parameters from data, or learning in short."
   ]
  },
  {
   "cell_type": "markdown",
   "metadata": {},
   "source": [
    "We can learn these parameters using different techniques. The classical method of solving this equation is called least squares method. It is easy to derive this method if we view the equation $\\hat{C_i} = \\alpha + \\beta \\cdot F$ differently. The equation states that\n",
    "$$ \\hat{C}_1 = \\alpha + \\beta \\cdot F_1$$\n",
    "$$ \\hat{C}_2 = \\alpha + \\beta \\cdot F_2$$\n",
    "$$ \\hat{C}_3 = \\alpha + \\beta \\cdot F_3$$\n",
    "$$ \\hat{C}_4 = \\alpha + \\beta \\cdot F_4$$\n",
    "\n",
    "This is equivalent to the following matrix equation\n",
    "$$\n",
    "\\begin{bmatrix}\n",
    "\\hat{C}_1\\\\\n",
    "\\hat{C}_2\\\\\n",
    "\\hat{C}_3\\\\\n",
    "\\hat{C}_4\\\\\n",
    "\\end{bmatrix}\n",
    "=\n",
    "\\begin{bmatrix}\n",
    "1 & F_1 \\\\\n",
    "1 & F_2 \\\\\n",
    "1 & F_3 \\\\\n",
    "1 & F_4 \\\\\n",
    "\\end{bmatrix}\n",
    "\\cdot\n",
    "\\begin{bmatrix}\n",
    "\\alpha \\\\\n",
    "\\beta\n",
    "\\end{bmatrix}\n",
    "$$\n",
    "or\n",
    "$$\\mathbf{\\hat{C} = F \\cdot W}$$\n",
    "Now we want to minimize the error($e$) where $e = \\mathbf{(C - \\hat{C})^T \\cdot (C - \\hat{C})}$. From basic calculus we know that to find the parameter $W$ that minimizes the error $e$ we set $\\frac{\\partial e}{\\partial W} = 0$.\n",
    "$$\n",
    "\\begin{align}\n",
    "\\frac{\\partial e}{\\partial W} &= 0\\\\\n",
    "\\frac{\\partial e}{\\partial \\hat{C}} \\cdot \\frac{\\partial \\hat{C}}{\\partial W} &= 0\\\\\n",
    "(C - \\hat{C})^T \\cdot F &= 0\\\\\n",
    "F^T \\cdot (C - \\hat{C}) &= 0\\\\\n",
    "F^T \\cdot \\hat{C} &= F^T \\cdot C\\\\\n",
    "F^T \\cdot F \\cdot W &= F^T \\cdot C\\\\\n",
    "W &= (F^T \\cdot F)^{-1} \\cdot F^T \\cdot C\\\\\n",
    "\\end{align}\n",
    "$$"
   ]
  },
  {
   "cell_type": "code",
   "execution_count": 23,
   "metadata": {},
   "outputs": [
    {
     "data": {
      "text/plain": [
       "\n",
       "Call:\n",
       "lm(formula = celcius ~ fahrenheit, data = data)\n",
       "\n",
       "Residuals:\n",
       "      0       1       2       3 \n",
       "-0.1258  0.2364  0.1186 -0.2291 \n",
       "\n",
       "Coefficients:\n",
       "             Estimate Std. Error t value Pr(>|t|)   \n",
       "(Intercept) -14.82674    1.50287  -9.866  0.01012 * \n",
       "fahrenheit    0.51958    0.01748  29.725  0.00113 **\n",
       "---\n",
       "Signif. codes:  0 ‘***’ 0.001 ‘**’ 0.01 ‘*’ 0.05 ‘.’ 0.1 ‘ ’ 1\n",
       "\n",
       "Residual standard error: 0.2629 on 2 degrees of freedom\n",
       "Multiple R-squared:  0.9977,\tAdjusted R-squared:  0.9966 \n",
       "F-statistic: 883.6 on 1 and 2 DF,  p-value: 0.00113\n",
       "\n"
      ]
     },
     "metadata": {},
     "output_type": "display_data"
    }
   ],
   "source": [
    "%%R -i data\n",
    "model = lm(celcius ~ fahrenheit, data=data)\n",
    "print(summary(model))"
   ]
  },
  {
   "cell_type": "markdown",
   "metadata": {},
   "source": [
    "This shows that $\\hat{C} = -14.82674 + 0.51958 \\cdot F$. We can check how good this prediction is by plotting the predicted linear relationship along side our data"
   ]
  },
  {
   "cell_type": "code",
   "execution_count": 31,
   "metadata": {},
   "outputs": [
    {
     "data": {
      "image/png": "[encoded data removed]"
     },
     "metadata": {},
     "output_type": "display_data"
    }
   ],
   "source": [
    "%%R -w 400 -h 300 -i data\n",
    "p = ggplot(data)\n",
    "p = p + geom_point(aes(x=fahrenheit, y=celcius))\n",
    "p = p + geom_abline(intercept=-14.82674, slope=0.51958, linetype=\"dashed\")\n",
    "p = p + theme_bw(base_size=18) + xlab(TeX(\"F\")) + ylab(TeX(\"C\"))\n",
    "print(p)"
   ]
  },
  {
   "cell_type": "markdown",
   "metadata": {},
   "source": [
    "The prediction by our equation $\\hat{C} = -14.82674 + 0.51958 * F$ is really good and fits the data quite well. Though the prediction is good, it is not quite perfect and we can see some small errors. These errors may arise due to the fact that reported temperatures on websites are rounded to one decimal place and this contain some rounding error from the start.\n",
    "\n",
    "The true relationship between Celcius and Fahrenheit is well known and a quick google search shows us that the true relationship is $C = -32 \\cdot \\frac{5}{9} + \\frac{5}{9} \\cdot F$. Lets see how close our prediction is to this true relationship."
   ]
  },
  {
   "cell_type": "code",
   "execution_count": 32,
   "metadata": {},
   "outputs": [
    {
     "data": {
      "image/png": "[encoded data removed]"
     },
     "metadata": {},
     "output_type": "display_data"
    }
   ],
   "source": [
    "%%R -w 400 -h 300 -i data\n",
    "p = ggplot(data)\n",
    "p = p + geom_point(aes(x=fahrenheit, y=celcius))\n",
    "p = p + geom_abline(intercept=-14.82674, slope=0.51958, linetype=\"dashed\")\n",
    "p = p + geom_abline(intercept=-32 * 5 / 9, slope=5 / 9, linetype=\"dashed\", color=\"red\")\n",
    "p = p + theme_bw(base_size=18) + xlab(TeX(\"F\")) + ylab(TeX(\"C\"))\n",
    "print(p)"
   ]
  },
  {
   "cell_type": "code",
   "execution_count": null,
   "metadata": {
    "collapsed": true
   },
   "outputs": [],
   "source": []
  }
 ],
 "metadata": {
  "kernelspec": {
   "display_name": "Python 3",
   "language": "python",
   "name": "python3"
  },
  "language_info": {
   "codemirror_mode": {
    "name": "ipython",
    "version": 3
   },
   "file_extension": ".py",
   "mimetype": "text/x-python",
   "name": "python",
   "nbconvert_exporter": "python",
   "pygments_lexer": "ipython3",
   "version": "3.5.2"
  }
 },
 "nbformat": 4,
 "nbformat_minor": 2
}
